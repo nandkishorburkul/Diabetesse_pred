{
 "cells": [
  {
   "cell_type": "code",
   "execution_count": 1,
   "metadata": {},
   "outputs": [],
   "source": [
    "import pickle\n",
    "import json\n",
    "import numpy as np"
   ]
  },
  {
   "cell_type": "code",
   "execution_count": 4,
   "metadata": {},
   "outputs": [],
   "source": [
    "def outcome_prediction(Preg,Glu,BlPr,SkiTness,Insulin,BMI,DiabetesPedigreeFunction,Age):\n",
    "    logistic=pickle.load(open('Logistic_model.pickle','rb'))\n",
    "    column_json=json.load(open('Name_of_column.json','r'))['columns_name']\n",
    "    \n",
    "    \n",
    "    \n",
    "    x=np.zeros(len(column_json))\n",
    "    x[0]=Preg\n",
    "    x[1]=Glu\n",
    "    x[2]=BlPr\n",
    "    x[3]=SkiTness\n",
    "    x[4]=Insulin\n",
    "    x[5]=float(BMI)\n",
    "    x[6]=float(DiabetesPedigreeFunction)\n",
    "    x[7]=Age\n",
    "    return logistic.predict([x])[0]\n",
    "    "
   ]
  },
  {
   "cell_type": "code",
   "execution_count": 5,
   "metadata": {},
   "outputs": [
    {
     "data": {
      "text/plain": [
       "1"
      ]
     },
     "execution_count": 5,
     "metadata": {},
     "output_type": "execute_result"
    }
   ],
   "source": [
    "pred22=outcome_prediction(7,150,78,29,126,35.2,0.692,54)  \n",
    "pred22"
   ]
  },
  {
   "cell_type": "code",
   "execution_count": null,
   "metadata": {},
   "outputs": [],
   "source": []
  }
 ],
 "metadata": {
  "kernelspec": {
   "display_name": "Python 3",
   "language": "python",
   "name": "python3"
  },
  "language_info": {
   "codemirror_mode": {
    "name": "ipython",
    "version": 3
   },
   "file_extension": ".py",
   "mimetype": "text/x-python",
   "name": "python",
   "nbconvert_exporter": "python",
   "pygments_lexer": "ipython3",
   "version": "3.8.5"
  }
 },
 "nbformat": 4,
 "nbformat_minor": 4
}
